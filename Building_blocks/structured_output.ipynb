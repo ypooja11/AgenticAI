{
 "cells": [
  {
   "cell_type": "code",
   "execution_count": 1,
   "id": "62d85a5d",
   "metadata": {},
   "outputs": [],
   "source": [
    "import os"
   ]
  },
  {
   "cell_type": "code",
   "execution_count": 2,
   "id": "bd0fd595",
   "metadata": {},
   "outputs": [],
   "source": [
    "from openai import OpenAI"
   ]
  },
  {
   "cell_type": "code",
   "execution_count": 3,
   "id": "8d8ff16d",
   "metadata": {},
   "outputs": [],
   "source": [
    "from pydantic import BaseModel"
   ]
  },
  {
   "cell_type": "code",
   "execution_count": 4,
   "id": "901f3f7e",
   "metadata": {},
   "outputs": [],
   "source": [
    "client = OpenAI(api_key=os.getenv(\"OPENAI_API_KEY\"))"
   ]
  },
  {
   "cell_type": "markdown",
   "id": "dd933444",
   "metadata": {},
   "source": [
    "#First Step: Defining the format of the response in a Pydantic model."
   ]
  },
  {
   "cell_type": "code",
   "execution_count": 5,
   "id": "ff423380",
   "metadata": {},
   "outputs": [],
   "source": [
    "class CalendarEvent(BaseModel):\n",
    "    name: str\n",
    "    date: str\n",
    "    participants: list[str]"
   ]
  },
  {
   "cell_type": "markdown",
   "id": "93a814a9",
   "metadata": {},
   "source": [
    "#Next step: Model calling"
   ]
  },
  {
   "cell_type": "code",
   "execution_count": 6,
   "id": "729e8e76",
   "metadata": {},
   "outputs": [],
   "source": [
    "completion = client.chat.completions.parse(\n",
    "    model=\"gpt-4o-mini\",\n",
    "    messages=[\n",
    "        {\"role\":\"system\",\"content\": \"Extracting information\"},\n",
    "        {\n",
    "            \"role\": \"user\",\n",
    "            \"content\": \"Tom and Jerry are going to a fair on Saturday.\",\n",
    "        },\n",
    "    ],\n",
    "    response_format=CalendarEvent,\n",
    "\n",
    ")"
   ]
  },
  {
   "cell_type": "markdown",
   "id": "659bacc1",
   "metadata": {},
   "source": [
    "#Last step: Parsing the resposne"
   ]
  },
  {
   "cell_type": "code",
   "execution_count": 7,
   "id": "a1d59223",
   "metadata": {},
   "outputs": [
    {
     "data": {
      "text/plain": [
       "['Tom', 'Jerry']"
      ]
     },
     "execution_count": 7,
     "metadata": {},
     "output_type": "execute_result"
    }
   ],
   "source": [
    "event = completion.choices[0].message.parsed\n",
    "event.participants"
   ]
  },
  {
   "cell_type": "code",
   "execution_count": 8,
   "id": "a2a10b70",
   "metadata": {},
   "outputs": [
    {
     "data": {
      "text/plain": [
       "'Fair Outing'"
      ]
     },
     "execution_count": 8,
     "metadata": {},
     "output_type": "execute_result"
    }
   ],
   "source": [
    "event.name"
   ]
  },
  {
   "cell_type": "code",
   "execution_count": 9,
   "id": "e4b0a207",
   "metadata": {},
   "outputs": [
    {
     "data": {
      "text/plain": [
       "'2023-10-21'"
      ]
     },
     "execution_count": 9,
     "metadata": {},
     "output_type": "execute_result"
    }
   ],
   "source": [
    "event.date"
   ]
  },
  {
   "cell_type": "code",
   "execution_count": null,
   "id": "ffd41129",
   "metadata": {},
   "outputs": [],
   "source": []
  }
 ],
 "metadata": {
  "kernelspec": {
   "display_name": "Python 3 (ipykernel)",
   "language": "python",
   "name": "python3"
  },
  "language_info": {
   "codemirror_mode": {
    "name": "ipython",
    "version": 3
   },
   "file_extension": ".py",
   "mimetype": "text/x-python",
   "name": "python",
   "nbconvert_exporter": "python",
   "pygments_lexer": "ipython3",
   "version": "3.11.3"
  }
 },
 "nbformat": 4,
 "nbformat_minor": 5
}
