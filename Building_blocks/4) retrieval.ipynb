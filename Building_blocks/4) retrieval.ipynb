{
 "cells": [
  {
   "cell_type": "code",
   "execution_count": null,
   "id": "5bd6dea3",
   "metadata": {},
   "outputs": [],
   "source": [
    "import json\n",
    "import os\n",
    "\n",
    "from openai import OpenAI\n",
    "from pydantic import BaseModel, Field"
   ]
  },
  {
   "cell_type": "code",
   "execution_count": null,
   "id": "eaf54686",
   "metadata": {},
   "outputs": [],
   "source": [
    "client = OpenAI(api_key=os.getenv(\"OPENAI_API_KEY\"))"
   ]
  },
  {
   "cell_type": "markdown",
   "id": "e3605746",
   "metadata": {},
   "source": [
    "# Let's define the knowledge base retrieval tool"
   ]
  },
  {
   "cell_type": "code",
   "execution_count": null,
   "id": "97089850",
   "metadata": {},
   "outputs": [],
   "source": [
    "def search_kb(question: str):\n",
    "    \"\"\"\n",
    "    Load the whole knowledge base from the JSON file.\n",
    "    (This is a mock function for demonstration purposes, we don't search)\n",
    "    \"\"\"\n",
    "    with open(\"knowledge_base.json\", \"r\") as f:\n",
    "        return json.load(f)"
   ]
  },
  {
   "cell_type": "code",
   "execution_count": null,
   "id": "2c7b9db4",
   "metadata": {},
   "outputs": [],
   "source": [
    "# Step 1: Now, we call the model with search_kb tool that we defined\n",
    "tools = [\n",
    "    {\n",
    "        \"type\": \"function\",\n",
    "        \"function\": {\n",
    "            \"name\": \"search_kb\",\n",
    "            \"description\": \"Get the answer to the user's question from the knowledge base.\",\n",
    "            \"parameters\": {\n",
    "                \"type\": \"object\",\n",
    "                \"properties\": {\n",
    "                    \"question\": {\"type\": \"string\"},\n",
    "                },\n",
    "                \"required\": [\"question\"],\n",
    "                \"additionalProperties\": False,\n",
    "            },\n",
    "            \"strict\": True,\n",
    "        },\n",
    "    }\n",
    "]\n",
    "\n",
    "system_prompt = \"You are a helpful assistant that answers questions from the knowledge base about our e-commerce store.\"\n",
    "\n",
    "messages = [\n",
    "    {\"role\": \"system\", \"content\": system_prompt},\n",
    "    {\"role\": \"user\", \"content\": \"What is the return policy?\"},\n",
    "]\n",
    "\n",
    "completion = client.chat.completions.create(\n",
    "    model=\"gpt-4o\",\n",
    "    messages=messages,\n",
    "    tools=tools,\n",
    ")"
   ]
  },
  {
   "cell_type": "code",
   "execution_count": null,
   "id": "e7ec2727",
   "metadata": {},
   "outputs": [],
   "source": [
    "#Step 2: Model decides to call the function\n",
    "completion.model_dump()"
   ]
  },
  {
   "cell_type": "code",
   "execution_count": null,
   "id": "dd823345",
   "metadata": {},
   "outputs": [],
   "source": [
    "#Step 3: Now we execute search_kb function\n",
    "def call_function(name, args):\n",
    "    if name == \"search_kb\":\n",
    "        return search_kb(**args)\n",
    "\n",
    "\n",
    "for tool_call in completion.choices[0].message.tool_calls:\n",
    "    name = tool_call.function.name\n",
    "    args = json.loads(tool_call.function.arguments)\n",
    "    messages.append(completion.choices[0].message)\n",
    "\n",
    "    result = call_function(name, args)\n",
    "    messages.append(\n",
    "        {\"role\": \"tool\", \"tool_call_id\": tool_call.id, \"content\": json.dumps(result)}\n",
    "    )"
   ]
  },
  {
   "cell_type": "code",
   "execution_count": null,
   "id": "9276dd3c",
   "metadata": {},
   "outputs": [],
   "source": [
    "#Step 4: Pass on the result and call the model again\n",
    "\n",
    "class KBResponse(BaseModel):\n",
    "    answer: str = Field(description=\"The answer to the user's question.\")\n",
    "    source: int = Field(description=\"The record id of the answer.\")\n",
    "\n",
    "\n",
    "completion_2 = client.beta.chat.completions.parse(\n",
    "    model=\"gpt-4o-mini\",\n",
    "    messages=messages,\n",
    "    tools=tools,\n",
    "    response_format=KBResponse,\n",
    ")"
   ]
  },
  {
   "cell_type": "code",
   "execution_count": null,
   "id": "1fdcee6e",
   "metadata": {},
   "outputs": [],
   "source": [
    "# Step 5: Check model response\n",
    "\n",
    "final_response = completion_2.choices[0].message.parsed\n",
    "final_response.answer\n",
    "final_response.source"
   ]
  },
  {
   "cell_type": "code",
   "execution_count": null,
   "id": "8e761ac3",
   "metadata": {},
   "outputs": [],
   "source": [
    "#Questions that won't trigger the tool\n",
    "\n",
    "messages = [\n",
    "    {\"role\": \"system\", \"content\": system_prompt},\n",
    "    {\"role\": \"user\", \"content\": \"What is the weather in Tokyo?\"},\n",
    "]\n",
    "\n",
    "completion_3 = client.beta.chat.completions.parse(\n",
    "    model=\"gpt-4o-mini\",\n",
    "    messages=messages,\n",
    "    tools=tools,\n",
    ")\n",
    "\n",
    "completion_3.choices[0].message.content"
   ]
  }
 ],
 "metadata": {
  "kernelspec": {
   "display_name": "Python 3 (ipykernel)",
   "language": "python",
   "name": "python3"
  }
 },
 "nbformat": 4,
 "nbformat_minor": 5
}
