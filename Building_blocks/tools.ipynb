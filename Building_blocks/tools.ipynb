{
 "cells": [
  {
   "cell_type": "code",
   "execution_count": 99,
   "id": "558318fe",
   "metadata": {},
   "outputs": [],
   "source": [
    "import os\n",
    "from openai import OpenAI"
   ]
  },
  {
   "cell_type": "code",
   "execution_count": 100,
   "id": "1d545054",
   "metadata": {},
   "outputs": [],
   "source": [
    "import requests\n",
    "import json\n",
    "from pydantic import BaseModel, Field"
   ]
  },
  {
   "cell_type": "code",
   "execution_count": 101,
   "id": "4d68f99a",
   "metadata": {},
   "outputs": [],
   "source": [
    "client = OpenAI(api_key=os.getenv(\"OPENAI_API_KEY\"))"
   ]
  },
  {
   "cell_type": "code",
   "execution_count": 102,
   "id": "7b7962b9",
   "metadata": {},
   "outputs": [
    {
     "data": {
      "text/plain": [
       "'\\ndocs: https://platform.openai.com/docs/guides/function-calling\\n'"
      ]
     },
     "execution_count": 102,
     "metadata": {},
     "output_type": "execute_result"
    }
   ],
   "source": [
    "\"\"\"\n",
    "docs: https://platform.openai.com/docs/guides/function-calling\n",
    "\"\"\""
   ]
  },
  {
   "cell_type": "markdown",
   "id": "8449d3df",
   "metadata": {},
   "source": [
    "#First we define the function or tool that we want to call"
   ]
  },
  {
   "cell_type": "code",
   "execution_count": 103,
   "id": "16f569f8",
   "metadata": {},
   "outputs": [],
   "source": [
    "def get_weather(latitude,longitude):\n",
    "    \"\"\"Publicly available API that gives weather info from latitude and longitude.\"\"\"\n",
    "    response = requests.get(\n",
    "        f\"https://api.open-meteo.com/v1/forecast?latitude={latitude}&longitude={longitude}&current=temperature_2m,wind_speed_10m&hourly=temperature_2m,relative_humidity_2m,wind_speed_10m\"\n",
    "    )\n",
    "    data = response.json()\n",
    "    return data[\"current\"]"
   ]
  },
  {
   "cell_type": "markdown",
   "id": "9fee5e81",
   "metadata": {},
   "source": [
    "#Calling the model with get_weather tool defined"
   ]
  },
  {
   "cell_type": "code",
   "execution_count": 104,
   "id": "c7824bf8",
   "metadata": {},
   "outputs": [],
   "source": [
    "tools = [\n",
    "    {\n",
    "        \"type\": \"function\",\n",
    "        \"function\": {\n",
    "            \"name\": \"get_weather\",\n",
    "            \"description\": \"Get current temperature for provided coordinates in celsius.\",\n",
    "            \"parameters\": {\n",
    "                \"type\": \"object\",\n",
    "                \"properties\": {\n",
    "                    \"latitude\": {\"type\": \"number\"},\n",
    "                    \"longitude\": {\"type\": \"number\"},\n",
    "                },\n",
    "                \"required\": [\"latitude\", \"longitude\"],\n",
    "                \"additionalProperties\": False,\n",
    "            },\n",
    "            \"strict\": True,\n",
    "        },\n",
    "\n",
    "    }\n",
    "]\n",
    "system_prompt = \"You're a helpful weather assistant\""
   ]
  },
  {
   "cell_type": "code",
   "execution_count": 105,
   "id": "66682aae",
   "metadata": {},
   "outputs": [],
   "source": [
    "messages = [\n",
    "    {\"role\": \"system\", \"content\": system_prompt },\n",
    "    {\"role\": \"user\", \"content\": \"What's the weather in Texas today?\" },\n",
    "]"
   ]
  },
  {
   "cell_type": "code",
   "execution_count": 106,
   "id": "5001d8ee",
   "metadata": {},
   "outputs": [],
   "source": [
    "completion = client.chat.completions.create(\n",
    "    model= \"gpt-4o-mini\",\n",
    "    messages= messages,\n",
    "    tools= tools,\n",
    ")"
   ]
  },
  {
   "cell_type": "markdown",
   "id": "ba123778",
   "metadata": {},
   "source": [
    "#Model decides to call the function"
   ]
  },
  {
   "cell_type": "code",
   "execution_count": 107,
   "id": "497bb672",
   "metadata": {},
   "outputs": [
    {
     "data": {
      "text/plain": [
       "{'id': 'chatcmpl-CEiHIuZddVUMMQKRU0FZ0j15v6EHd',\n",
       " 'choices': [{'finish_reason': 'tool_calls',\n",
       "   'index': 0,\n",
       "   'logprobs': None,\n",
       "   'message': {'content': None,\n",
       "    'refusal': None,\n",
       "    'role': 'assistant',\n",
       "    'annotations': [],\n",
       "    'audio': None,\n",
       "    'function_call': None,\n",
       "    'tool_calls': [{'id': 'call_SY4ZmvW0GdX8KssBcXBiaKR0',\n",
       "      'function': {'arguments': '{\"latitude\": 31.9686, \"longitude\": -99.9018}',\n",
       "       'name': 'get_weather'},\n",
       "      'type': 'function'}]}}],\n",
       " 'created': 1757622832,\n",
       " 'model': 'gpt-4o-mini-2024-07-18',\n",
       " 'object': 'chat.completion',\n",
       " 'service_tier': 'default',\n",
       " 'system_fingerprint': 'fp_8bda4d3a2c',\n",
       " 'usage': {'completion_tokens': 41,\n",
       "  'prompt_tokens': 64,\n",
       "  'total_tokens': 105,\n",
       "  'completion_tokens_details': {'accepted_prediction_tokens': 0,\n",
       "   'audio_tokens': 0,\n",
       "   'reasoning_tokens': 0,\n",
       "   'rejected_prediction_tokens': 0},\n",
       "  'prompt_tokens_details': {'audio_tokens': 0, 'cached_tokens': 0}}}"
      ]
     },
     "execution_count": 107,
     "metadata": {},
     "output_type": "execute_result"
    }
   ],
   "source": [
    "completion.model_dump()"
   ]
  },
  {
   "cell_type": "markdown",
   "id": "2fdffefc",
   "metadata": {},
   "source": [
    "#Execute get_weather function"
   ]
  },
  {
   "cell_type": "code",
   "execution_count": 108,
   "id": "0d6819a7",
   "metadata": {},
   "outputs": [],
   "source": [
    "assistant_messages = completion.choices[0].message\n",
    "messages.append(assistant_messages)"
   ]
  },
  {
   "cell_type": "code",
   "execution_count": 109,
   "id": "fcba933e",
   "metadata": {},
   "outputs": [],
   "source": [
    "def call_function(name, args):\n",
    "    if name == \"get_weather\":\n",
    "        return get_weather(**args)"
   ]
  },
  {
   "cell_type": "code",
   "execution_count": 110,
   "id": "ea4e4402",
   "metadata": {},
   "outputs": [],
   "source": [
    "for tool_call in completion.choices[0].message.tool_calls:\n",
    "    name = tool_call.function.name\n",
    "    args = json.loads(tool_call.function.arguments)\n",
    "    # messages.append(completion.choices[0].message)\n",
    "\n",
    "    result = call_function(name,args)\n",
    "\n",
    "    messages.append(\n",
    "        {\"role\":\"tool\", \n",
    "         \"tool_call_id\": tool_call.id, \n",
    "         \"content\": json.dumps(result),\n",
    "         }\n",
    "    )"
   ]
  },
  {
   "cell_type": "markdown",
   "id": "7cd82e9f",
   "metadata": {},
   "source": [
    "#Transfer result and call model again"
   ]
  },
  {
   "cell_type": "code",
   "execution_count": 111,
   "id": "ec32cad8",
   "metadata": {},
   "outputs": [],
   "source": [
    "class WeatherResponse(BaseModel):\n",
    "    temperature: float = Field(\n",
    "        description= \"Current temperature in Celsius for given location.\"\n",
    "    )\n",
    "    response: str = Field(\n",
    "        description= \"A natural language response to user's question.\"\n",
    "    )"
   ]
  },
  {
   "cell_type": "code",
   "execution_count": 112,
   "id": "2a89524c",
   "metadata": {},
   "outputs": [],
   "source": [
    "completion2 = client.beta.chat.completions.parse(\n",
    "    model = \"gpt-4o-mini\",\n",
    "    messages = messages,\n",
    "    # tools = tools,\n",
    "    response_format = WeatherResponse,\n",
    ")"
   ]
  },
  {
   "cell_type": "code",
   "execution_count": 113,
   "id": "3c622104",
   "metadata": {},
   "outputs": [],
   "source": [
    "final_response = completion2.choices[0].message.parsed"
   ]
  },
  {
   "cell_type": "code",
   "execution_count": 114,
   "id": "b62dc425",
   "metadata": {},
   "outputs": [
    {
     "data": {
      "text/plain": [
       "33.7"
      ]
     },
     "execution_count": 114,
     "metadata": {},
     "output_type": "execute_result"
    }
   ],
   "source": [
    "final_response.temperature"
   ]
  },
  {
   "cell_type": "code",
   "execution_count": 115,
   "id": "2a32c630",
   "metadata": {},
   "outputs": [
    {
     "data": {
      "text/plain": [
       "'The current temperature in Texas is 33.7°C with a wind speed of 15.1 km/h.'"
      ]
     },
     "execution_count": 115,
     "metadata": {},
     "output_type": "execute_result"
    }
   ],
   "source": [
    "final_response.response"
   ]
  },
  {
   "cell_type": "code",
   "execution_count": null,
   "id": "91562a70",
   "metadata": {},
   "outputs": [],
   "source": []
  }
 ],
 "metadata": {
  "kernelspec": {
   "display_name": "Python 3 (ipykernel)",
   "language": "python",
   "name": "python3"
  },
  "language_info": {
   "codemirror_mode": {
    "name": "ipython",
    "version": 3
   },
   "file_extension": ".py",
   "mimetype": "text/x-python",
   "name": "python",
   "nbconvert_exporter": "python",
   "pygments_lexer": "ipython3",
   "version": "3.11.3"
  }
 },
 "nbformat": 4,
 "nbformat_minor": 5
}
