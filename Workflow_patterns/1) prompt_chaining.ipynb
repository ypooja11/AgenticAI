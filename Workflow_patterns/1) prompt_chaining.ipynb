{
 "cells": [
  {
   "cell_type": "code",
   "execution_count": null,
   "id": "dac4b74c",
   "metadata": {},
   "outputs": [],
   "source": [
    "import os\n",
    "from openai import OpenAI\n",
    "from pydantic import BaseModel, Field"
   ]
  },
  {
   "cell_type": "code",
   "execution_count": null,
   "id": "b3015691",
   "metadata": {},
   "outputs": [],
   "source": [
    "import logging\n",
    "from typing import Optional\n",
    "from datetime import datetime"
   ]
  },
  {
   "cell_type": "markdown",
   "id": "96048d00",
   "metadata": {},
   "source": [
    "# Defining data models for all the stages"
   ]
  },
  {
   "cell_type": "code",
   "execution_count": null,
   "id": "d6fb1b14",
   "metadata": {},
   "outputs": [],
   "source": [
    "# Data model for extracting the event type\n",
    "class ExtractEvent(BaseModel):\n",
    "    \n",
    "    description: str = Field(description=\"Basic description of event\")\n",
    "    is_calendar_event: bool = Field(\n",
    "        description= \"If the text describes a calendar event\"\n",
    "    )\n",
    "    confidence_score: float = Field(description=\"Confidence score in the range of 0 to 1\")"
   ]
  },
  {
   "cell_type": "code",
   "execution_count": null,
   "id": "2d6e2d2f",
   "metadata": {},
   "outputs": [],
   "source": [
    "#Data model for parsing specific details\n",
    "class EventDetails(BaseModel):\n",
    "\n",
    "    name: str = Field(description=\"Name of event\")\n",
    "    date: str = Field(description= \"Date and time of the event. Use ISO 8601 to format this value.\")\n",
    "\n",
    "    duration_minutes: int = Field(description=\"Duration in minutes\")\n",
    "    participants: list[str] = Field(description= \"Participant list\")"
   ]
  },
  {
   "cell_type": "code",
   "execution_count": null,
   "id": "4b7b9ddc",
   "metadata": {},
   "outputs": [],
   "source": [
    "#Data model for confirmation message\n",
    "class EventConfirm(BaseModel):\n",
    "    confirm_message: str = Field(description= \"Natural language message for confirmation\")\n",
    "\n",
    "    calendar_link: Optional[str] = Field(description= \"Calendar link generated\")"
   ]
  },
  {
   "cell_type": "code",
   "execution_count": null,
   "id": "ab8b6250",
   "metadata": {},
   "outputs": [],
   "source": [
    "#Setting up logging configuration\n",
    "logging.basicConfig(\n",
    "    level=logging.INFO,\n",
    "    format=\"%(asctime)s - %(levelname)s - %(message)s\",\n",
    "    datefmt=\"%Y-%m-%d %H:%M:%S\",\n",
    ")\n",
    "logger = logging.getLogger(__name__)"
   ]
  },
  {
   "cell_type": "code",
   "execution_count": null,
   "id": "a418b8c5",
   "metadata": {},
   "outputs": [],
   "source": [
    "client = OpenAI(api_key=os.getenv(\"OPENAI_API_KEY\"))\n",
    "model = \"gpt-4o-mini\""
   ]
  },
  {
   "cell_type": "markdown",
   "id": "dc8683b3",
   "metadata": {},
   "source": [
    "# Defining the functions now"
   ]
  },
  {
   "cell_type": "code",
   "execution_count": null,
   "id": "b2e6b2d5",
   "metadata": {},
   "outputs": [],
   "source": [
    "def extract_event_info(user_input: str) -> ExtractEvent:\n",
    "    \"\"\"Determining if this is a calendar event by calling LLM\"\"\"\n",
    "    logger.info(\"Analyzing the event extraction\")\n",
    "    logger.debug(f\"Input text: {user_input} \")\n",
    "\n",
    "    today = datetime.now()\n",
    "    date_today = f\"Today is {today.strftime('%A, %B, %d, %Y')}.\"\n",
    "\n",
    "    completion = client.beta.chat.completions.parse(\n",
    "        model=model,\n",
    "        messages=[\n",
    "            {\n",
    "                \"role\": \"system\",\n",
    "                \"content\": f\"{date_today} Analyze if the extracted info points to a calendar event\",\n",
    "            },\n",
    "        ],\n",
    "        response_format=ExtractEvent,\n",
    "    )\n",
    "    result = completion.choices[0].message.parsed\n",
    "    logger.info(\n",
    "        f\"Extraction done - Is calendar event: {result.is_calendar_event}, Confidence: {result.confidence_score:.2f} \"\n",
    "    )\n",
    "    return result"
   ]
  },
  {
   "cell_type": "code",
   "execution_count": null,
   "id": "0f1bf405",
   "metadata": {},
   "outputs": [],
   "source": [
    "def event_info_parse(description: str) -> EventDetails:\n",
    "    \"\"\"Parsing the extracted event info with LLM\"\"\"\n",
    "    logger.info(\"Parsing the event info\")\n",
    "\n",
    "    today = datetime.now()\n",
    "    date_today = f\"Today is {today.strftime('%A, %B, %d, %Y')}.\"\n",
    "\n",
    "    completion = client.beta.chat.completions.parse(\n",
    "        model=model,\n",
    "        messages=[\n",
    "            {\n",
    "                \"role\": \"system\",\n",
    "                \"content\": f\"{date_today} Extract details from the event info. When dates refer to 'next Friday' or relative dates like this, use this date as current date for reference.\",\n",
    "            },\n",
    "            {\"role\": \"user\", \"content\": description},\n",
    "        ],\n",
    "        response_format=EventDetails,\n",
    "    )\n",
    "    result = completion.choices[0].message.parsed\n",
    "    logger.info(\n",
    "        f\"Parsed event info - Name:{result.name}, Date: {result.date}, Duration: {result.duration_minutes}min \"\n",
    "    )\n",
    "    logger.debug(f\"Participants: {', '.join(result.participants)} \")\n",
    "    return result"
   ]
  },
  {
   "cell_type": "code",
   "execution_count": null,
   "id": "2db0d9ec",
   "metadata": {},
   "outputs": [],
   "source": [
    "def get_confirmation(event_details: EventDetails) -> EventConfirm:\n",
    "    \"\"\"Getting a confirm message generated by calling LLN\"\"\"\n",
    "\n",
    "    logger.info(\"Creating confirmation message\")\n",
    "\n",
    "    completion = client.beta.chat.completions.parse(\n",
    "        model = model,\n",
    "        messages=[\n",
    "            {\n",
    "                \"role\": \"system\",\n",
    "                \"content\": \"Generate a confirmation message for the event in natural human language. Sign: August\",\n",
    "\n",
    "            },\n",
    "            {\"role\": \"user\", \"content\": str(event_details.model_dump()) },\n",
    "        ],\n",
    "        response_format=EventConfirm,\n",
    "    )\n",
    "\n",
    "    result = completion.choices[0].message.parsed\n",
    "    logger.info(\"Confirmation message generated successfully\")\n",
    "    return result"
   ]
  },
  {
   "cell_type": "markdown",
   "id": "2737c998",
   "metadata": {},
   "source": [
    "# Now to chain the functions together"
   ]
  },
  {
   "cell_type": "code",
   "execution_count": null,
   "id": "44163f2a",
   "metadata": {},
   "outputs": [],
   "source": [
    "def calendar_request_process(user_input: str) -> Optional[EventConfirm]:\n",
    "    \"\"\"This is the main function that implements the complete prompt chaining with gate check\"\"\"\n",
    "\n",
    "    logger.info(\"Calendar request processing\")\n",
    "    logger.debug(f\"Raw input: {user_input}\")\n",
    "\n",
    "    #Calling first LLM: This extracts the basic details\n",
    "    initial_extract = extract_event_info{user_input}\n",
    "\n",
    "    #Gate check: To check if it's a calendar event with enough confidence\n",
    "    if(\n",
    "        not initial_extract.is_calendar_event\n",
    "        or initial_extract.confidence_score < 0.7\n",
    "    ):\n",
    "        logger.warning(\n",
    "            f\"Gate check failed - is_calendar_event: {initial_extract.is_calendar_event}, confidence: {initial_extract.confidence_score:.2f} \"\n",
    "        )\n",
    "        return None\n",
    "    \n",
    "    logger.info(\"Gate check passed, now proceed with event process\")\n",
    "\n",
    "    #Second LLM: Get in depth details of event\n",
    "    event_details = event_info_parse(initial_extract.description)\n",
    "\n",
    "    #Third LLM: Get confirmation\n",
    "    confirmation = get_confirmation(event_details)\n",
    "\n",
    "    logger.info(\"Processing of calendar request completed successfully\")\n",
    "    return confirmation\n"
   ]
  },
  {
   "cell_type": "markdown",
   "id": "3ed18d77",
   "metadata": {},
   "source": [
    "# Now, Let's test the chain with valid input"
   ]
  },
  {
   "cell_type": "code",
   "execution_count": null,
   "id": "ca6f8f00",
   "metadata": {},
   "outputs": [],
   "source": [
    "user_input = \"Let's schedule a team metting for half an hour next Thursday at 1pm with Chris and Nina to discuss team budget.\"\n",
    "\n",
    "result = calendar_request_process(user_input)\n",
    "if result:\n",
    "    print(f\"Confirmation: {result.confirm_message}\")\n",
    "    if result.calendar_link:\n",
    "        print(f\"Calendar Link: {result.calendar_link}\")\n",
    "else:\n",
    "    print(\"This isn't a calendar event request.\")"
   ]
  },
  {
   "cell_type": "markdown",
   "id": "0c1fe11b",
   "metadata": {},
   "source": [
    "# Now, let's test with an invalid input too"
   ]
  },
  {
   "cell_type": "code",
   "execution_count": null,
   "id": "a06cf587",
   "metadata": {},
   "outputs": [],
   "source": [
    "user_input = \"Can you set a reminder to send email to Nina?\"\n",
    "\n",
    "result = calendar_request_process(user_input)\n",
    "if result:\n",
    "    print(f\"Confirmation: {result.confirm_message}\")\n",
    "\n",
    "    if result.calendar_link:\n",
    "        print(f\"Calendar Link: {result.calendar_link}\")\n",
    "\n",
    "else: \n",
    "    print(\"This doesn't look like a calendar event request\")"
   ]
  }
 ],
 "metadata": {
  "kernelspec": {
   "display_name": "Python 3 (ipykernel)",
   "language": "python",
   "name": "python3"
  }
 },
 "nbformat": 4,
 "nbformat_minor": 5
}
