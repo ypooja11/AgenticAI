{
 "cells": [
  {
   "cell_type": "code",
   "execution_count": 163,
   "id": "dac4b74c",
   "metadata": {},
   "outputs": [],
   "source": [
    "import os\n",
    "from openai import OpenAI\n",
    "from pydantic import BaseModel, Field"
   ]
  },
  {
   "cell_type": "code",
   "execution_count": 164,
   "id": "b3015691",
   "metadata": {},
   "outputs": [],
   "source": [
    "import logging\n",
    "from typing import Optional\n",
    "from datetime import datetime"
   ]
  },
  {
   "cell_type": "markdown",
   "id": "96048d00",
   "metadata": {},
   "source": [
    "# Defining data models for all the stages"
   ]
  },
  {
   "cell_type": "code",
   "execution_count": null,
   "id": "d6fb1b14",
   "metadata": {},
   "outputs": [],
   "source": [
    "# Data model for extracting the event type\n",
    "class ExtractEvent(BaseModel):\n",
    "    \n",
    "    description: str = Field(description=\"Basic description of event\")\n",
    "    is_calendar_event: bool = Field(\n",
    "        description= \"If the text describes a calendar event\"\n",
    "    )\n",
    "    confidence_score: float = Field(description=\"Confidence score in the range of 0 to 1\")"
   ]
  },
  {
   "cell_type": "code",
   "execution_count": 167,
   "id": "2d6e2d2f",
   "metadata": {},
   "outputs": [],
   "source": [
    "#Data model for parsing specific details\n",
    "class EventDetails(BaseModel):\n",
    "\n",
    "    name: str = Field(description=\"Name of event\")\n",
    "    date: str = Field(description= \"Date and time of the event. Use ISO 8601 to format this value.\")\n",
    "\n",
    "    duration_minutes: int = Field(description=\"Duration in minutes\")\n",
    "    participants: list[str] = Field(description= \"Participant list\")"
   ]
  },
  {
   "cell_type": "code",
   "execution_count": null,
   "id": "4b7b9ddc",
   "metadata": {},
   "outputs": [],
   "source": [
    "#Data model for confirmation message\n",
    "class EventConfirm(BaseModel):\n",
    "    confirm_message: str = Field(description= \"Natural language message for confirmation\")\n",
    "\n",
    "    calendar_link: Optional[str] = Field(description= \"Calendar link generated\")"
   ]
  }
 ],
 "metadata": {
  "kernelspec": {
   "display_name": "Python 3 (ipykernel)",
   "language": "python",
   "name": "python3"
  },
  "language_info": {
   "codemirror_mode": {
    "name": "ipython",
    "version": 3
   },
   "file_extension": ".py",
   "mimetype": "text/x-python",
   "name": "python",
   "nbconvert_exporter": "python",
   "pygments_lexer": "ipython3",
   "version": "3.11.3"
  }
 },
 "nbformat": 4,
 "nbformat_minor": 5
}
