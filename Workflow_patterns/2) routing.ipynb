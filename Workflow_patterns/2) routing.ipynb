{
 "cells": [
  {
   "cell_type": "code",
   "execution_count": 1,
   "id": "abc43f6e",
   "metadata": {},
   "outputs": [],
   "source": [
    "import os\n",
    "import logging"
   ]
  },
  {
   "cell_type": "code",
   "execution_count": 2,
   "id": "7abde051",
   "metadata": {},
   "outputs": [],
   "source": [
    "from typing import Optional, Literal\n",
    "from pydantic import BaseModel, Field\n",
    "from openai import OpenAI"
   ]
  },
  {
   "cell_type": "code",
   "execution_count": 3,
   "id": "e688561d",
   "metadata": {},
   "outputs": [],
   "source": [
    "client = OpenAI(api_key=os.getenv(\"OPENAI_API_KEY\"))\n",
    "model = \"gpt-40-mini\""
   ]
  },
  {
   "cell_type": "markdown",
   "id": "11d2f3ca",
   "metadata": {},
   "source": [
    "# Defining the data models first"
   ]
  },
  {
   "cell_type": "code",
   "execution_count": 4,
   "id": "d8deadea",
   "metadata": {},
   "outputs": [],
   "source": [
    "class DetermineRequestType(BaseModel):\n",
    "    \"\"\"LLM call: Determine the type of request\"\"\"\n",
    "\n",
    "    request_type: Literal[\"new_event\", \"modify_event\", \"other\"] = Field(\n",
    "        description = \"Type of calendar request made\"\n",
    "    )\n",
    "    confidence_score: float = Field(description=\"Confidence score 0 and 1\")\n",
    "    description: str = Field(description = \"Cleaner description of the request\")"
   ]
  },
  {
   "cell_type": "code",
   "execution_count": 5,
   "id": "0d8c524c",
   "metadata": {},
   "outputs": [],
   "source": [
    "class NewEventDetails(BaseModel):\n",
    "    \"\"\"Details required for the event\"\"\"\n",
    "\n",
    "    name: str = Field(description= \"Name od event\")\n",
    "    date: str = Field(description= \"Date and time of event (ISO 8601)\")\n",
    "    duration_min: int = Field(description= \"Duration in minutes\")\n",
    "    participants: list[str] = Field(description= \"List of participants\")"
   ]
  },
  {
   "cell_type": "code",
   "execution_count": 6,
   "id": "ed27ea8b",
   "metadata": {},
   "outputs": [],
   "source": [
    "class Change(BaseModel):\n",
    "    \"\"\"Details for changing existing event\"\"\"\n",
    "\n",
    "    field: str = Field(description= \"Field requiring change\")\n",
    "    new_value: str = Field(\"New values for field\")"
   ]
  },
  {
   "cell_type": "code",
   "execution_count": 7,
   "id": "588fea12",
   "metadata": {},
   "outputs": [],
   "source": [
    "class ModifyEvent(BaseModel):\n",
    "    \"\"\"Modifying event details\"\"\"\n",
    "\n",
    "    event_identifier: str = Field(description= \"Description for event identification\")\n",
    "    changes: list[Change] = Field(description= \"List of changes to make\")\n",
    "    participants_add: list[str] = Field(description= \"List of new participants to add\")\n",
    "    participants_remove: list[str] = Field(description= \"List of new participants to remove\")"
   ]
  },
  {
   "cell_type": "code",
   "execution_count": 8,
   "id": "8390ee96",
   "metadata": {},
   "outputs": [],
   "source": [
    "class CalendarResponse(BaseModel):\n",
    "    \"\"\"Format for final response\"\"\"\n",
    "\n",
    "    success: bool = Field(description= \"Whether the operation was successful\")\n",
    "    message: str = Field(description= \"User-friendly response message\")\n",
    "    calendar_link: Optional[str] = Field(description= \"Calendar link if possible\")"
   ]
  },
  {
   "cell_type": "markdown",
   "id": "1ca720cc",
   "metadata": {},
   "source": [
    "# "
   ]
  },
  {
   "cell_type": "code",
   "execution_count": null,
   "id": "54b6cb1c",
   "metadata": {},
   "outputs": [],
   "source": []
  }
 ],
 "metadata": {
  "kernelspec": {
   "display_name": "Python 3 (ipykernel)",
   "language": "python",
   "name": "python3"
  },
  "language_info": {
   "codemirror_mode": {
    "name": "ipython",
    "version": 3
   },
   "file_extension": ".py",
   "mimetype": "text/x-python",
   "name": "python",
   "nbconvert_exporter": "python",
   "pygments_lexer": "ipython3",
   "version": "3.11.3"
  }
 },
 "nbformat": 4,
 "nbformat_minor": 5
}
